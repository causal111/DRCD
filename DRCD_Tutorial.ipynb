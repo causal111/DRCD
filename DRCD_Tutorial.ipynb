{
 "cells": [
  {
   "cell_type": "markdown",
   "id": "4be1a0a1-2dc4-4504-bc84-5b2739f0619d",
   "metadata": {},
   "source": [
    "# DRCD Usage Guide with Heart Disease Dataset\n",
    "\n",
    "This Jupyter notebook demonstrates how to use DRCD (Density Ratio-based Causal Discovery) with the Heart Disease Dataset from the UC Irvine Machine Learning Repository.\n",
    "\n",
    "## Basic Usage\n",
    "\n",
    "The basic usage of DRCD is as follows:\n",
    "\n",
    "```python\n",
    "import DRCD\n",
    "drcd = DRCD.DRCD(data)\n",
    "result = drcd.infer()\n",
    "print(result)\n",
    "```\n",
    "\n",
    "## Data Preparation\n",
    "\n",
    "When preparing your data for DRCD, ensure that:\n",
    "- The first column contains continuous variables (numerical variables)\n",
    "- The second column contains discrete variables (categorical variables)\n",
    "\n",
    "## Interpreting Results\n",
    "\n",
    "The `result` output has the following interpretation:\n",
    "\n",
    "- **1**: Continuous variable causes the discrete variable\n",
    "- **2**: Discrete variable causes the continuous variable\n",
    "- **0**: No causal relationship exists between the continuous and discrete variables\n",
    "\n",
    "## Example with Heart Disease Dataset\n",
    "\n",
    "In this notebook, we'll use the Heart Disease Dataset to demonstrate the application of DRCD for causal discovery between continuous and discrete variables."
   ]
  },
  {
   "cell_type": "markdown",
   "id": "5f832b0a-bd0d-4e1e-b35a-64d473b93121",
   "metadata": {},
   "source": [
    "## import packages\n",
    "- numpy\n",
    "- UC Irvine Machine Learning Repository"
   ]
  },
  {
   "cell_type": "code",
   "execution_count": 1,
   "id": "416afbbd-ba75-44f1-b024-17a3b2a255dc",
   "metadata": {},
   "outputs": [],
   "source": [
    "import DRCD\n",
    "import numpy as np\n",
    "from ucimlrepo import fetch_ucirepo"
   ]
  },
  {
   "cell_type": "markdown",
   "id": "07916e58-aa69-4ee3-9fcc-753700318b42",
   "metadata": {},
   "source": [
    "## continuous variable $\\rightarrow$ discrete variable\n",
    "- continuous variable: age\n",
    "- discrete variable: num (heart disease diagnosis)\n",
    "- causal direction: age  $\\rightarrow$ num\n",
    "- expected result: 1"
   ]
  },
  {
   "cell_type": "code",
   "execution_count": 2,
   "id": "c83cc2f8-39b7-4437-a4a2-061e03d947a4",
   "metadata": {},
   "outputs": [],
   "source": [
    "heart_disease = fetch_ucirepo(id=45)\n",
    "X = heart_disease.data.features\n",
    "y = heart_disease.data.targets\n",
    "\n",
    "data = np.zeros((len(X), 2))\n",
    "data[:, 0] = X[\"age\"].to_numpy()\n",
    "data[:, 1] = y.to_numpy().T[0]"
   ]
  },
  {
   "cell_type": "code",
   "execution_count": 3,
   "id": "c6d48255-66eb-42c3-bd85-7f3fee0231c8",
   "metadata": {},
   "outputs": [
    {
     "name": "stdout",
     "output_type": "stream",
     "text": [
      "1\n"
     ]
    }
   ],
   "source": [
    "drcd = DRCD.DRCD(data)\n",
    "result = drcd.infer()\n",
    "print(result)"
   ]
  },
  {
   "cell_type": "markdown",
   "id": "f83e48f6-c622-41ef-a933-65a0900fa232",
   "metadata": {},
   "source": [
    "## continuous variable $\\leftarrow$ discrete variable\n",
    "- continuous variable: chol\n",
    "- discrete variable: sex\n",
    "- causal direction: chol  $\\leftarrow$ sex\n",
    "- expected result: 2"
   ]
  },
  {
   "cell_type": "code",
   "execution_count": 4,
   "id": "23aaaaa8-5508-424a-9150-9eff5cf846c7",
   "metadata": {},
   "outputs": [],
   "source": [
    "data = np.zeros((len(X), 2))\n",
    "data[:, 0] = X[\"chol\"].to_numpy()\n",
    "data[:, 1] = X[\"sex\"].to_numpy()"
   ]
  },
  {
   "cell_type": "code",
   "execution_count": 5,
   "id": "ff93837d-47c7-4824-9f86-fa1583b3c007",
   "metadata": {},
   "outputs": [
    {
     "name": "stdout",
     "output_type": "stream",
     "text": [
      "2\n"
     ]
    }
   ],
   "source": [
    "drcd = DRCD.DRCD(data)\n",
    "result = drcd.infer()\n",
    "print(result)"
   ]
  },
  {
   "cell_type": "markdown",
   "id": "1e7c2e8b-8ac9-4cb6-81d3-1670a794ca9a",
   "metadata": {},
   "source": [
    "## No causal relationships\n",
    "- continuous variable: age\n",
    "- discrete variable: sex\n",
    "- causal direction: no causal relationship\n",
    "- expected result: 0"
   ]
  },
  {
   "cell_type": "code",
   "execution_count": 6,
   "id": "20d422da-4c93-469f-bb0c-6b82b289d89a",
   "metadata": {},
   "outputs": [],
   "source": [
    "data = np.zeros((len(X), 2))\n",
    "data[:, 0] = X[\"age\"].to_numpy()\n",
    "data[:, 1] = X[\"sex\"].to_numpy()"
   ]
  },
  {
   "cell_type": "code",
   "execution_count": 7,
   "id": "ddbee1a9-8871-49e9-8de0-a1872b8d1c86",
   "metadata": {},
   "outputs": [
    {
     "name": "stdout",
     "output_type": "stream",
     "text": [
      "0\n"
     ]
    }
   ],
   "source": [
    "drcd = DRCD.DRCD(data)\n",
    "result = drcd.infer()\n",
    "print(result)"
   ]
  },
  {
   "cell_type": "code",
   "execution_count": null,
   "id": "abc76a99-c37e-4ec2-9d1f-5456c72ec2ec",
   "metadata": {},
   "outputs": [],
   "source": []
  }
 ],
 "metadata": {
  "kernelspec": {
   "display_name": "Python 3 (ipykernel)",
   "language": "python",
   "name": "python3"
  },
  "language_info": {
   "codemirror_mode": {
    "name": "ipython",
    "version": 3
   },
   "file_extension": ".py",
   "mimetype": "text/x-python",
   "name": "python",
   "nbconvert_exporter": "python",
   "pygments_lexer": "ipython3",
   "version": "3.11.7"
  }
 },
 "nbformat": 4,
 "nbformat_minor": 5
}
