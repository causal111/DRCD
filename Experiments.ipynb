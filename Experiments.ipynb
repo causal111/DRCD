{
 "cells": [
  {
   "cell_type": "markdown",
   "id": "3c42b67e-74f4-41a7-8576-712a1333e54a",
   "metadata": {},
   "source": [
    "# Experiments for All Methods\n",
    "This notebook presents experiments conducted on both synthetic datasets and the UCI Heart Disease Dataset, covering all evaluated methods.  \n",
    "For experiments exclusively focused on **DRCD**, please refer to `Experiments_DRCDonly.ipynb`.\n"
   ]
  },
  {
   "cell_type": "markdown",
   "id": "70ab611f-605b-401e-bba7-e0b828a12b3b",
   "metadata": {},
   "source": [
    "## Experiments on Synthetic Data\n",
    "### Procedure\n",
    "The experiments can be executed using the following commands:\n",
    "```python\n",
    "import experiments_artificial\n",
    "experiments_artificial.experiment_using_artififial_data()\n",
    "```\n",
    "By default, this runs experiments with 1,000 samples per dataset and 1,000 datasets per data type.  \n",
    "To adjust the number of samples or datasets, specify the parameters explicitly as follows:\n",
    "```python\n",
    "import experiments_artificial\n",
    "experiments_artificial.experiment_using_artififial_data(n_samples=1000, n_datasets_per_type=1000)\n",
    "```\n",
    "\n",
    "### Output\n",
    "The results will be saved in LaTeX table format at:\n",
    "```\n",
    "./results/artificial/accuracy_table_with_overall.tex\n",
    "```\n",
    "In addition, individual results for each method will be displayed within the notebook upon completion of the experiments.\n"
   ]
  },
  {
   "cell_type": "code",
   "execution_count": null,
   "id": "fae92516-bed8-4268-83ca-3ac0a3e043d4",
   "metadata": {},
   "outputs": [],
   "source": [
    "import experiments_artificial\n",
    "experiments_artificial.experiment_using_artififial_data()"
   ]
  },
  {
   "cell_type": "markdown",
   "id": "8128eee6-5897-4d0a-a8c8-9ccac8cb734c",
   "metadata": {},
   "source": [
    "## Experiments on the UCI Heart Disease Dataset\n",
    "### Procedure\n",
    "The experiments can be executed using the following commands:\n",
    "```python\n",
    "import experiments_real\n",
    "experiments_real.experiment_with_real_data()\n",
    "```\n",
    "\n",
    "### Output\n",
    "The results will be saved as a PDF file containing bipartite graphs at:\n",
    "```\n",
    "./results/real/bipartite_graphs.pdf\n",
    "```\n"
   ]
  },
  {
   "cell_type": "code",
   "execution_count": null,
   "id": "6168ef30-ef9d-4ff6-90b0-9dc45548d8b1",
   "metadata": {},
   "outputs": [],
   "source": [
    "import experiments_real\n",
    "experiments_real.experiment_with_real_data()"
   ]
  }
 ],
 "metadata": {
  "kernelspec": {
   "display_name": "Python 3 (ipykernel)",
   "language": "python",
   "name": "python3"
  },
  "language_info": {
   "codemirror_mode": {
    "name": "ipython",
    "version": 3
   },
   "file_extension": ".py",
   "mimetype": "text/x-python",
   "name": "python",
   "nbconvert_exporter": "python",
   "pygments_lexer": "ipython3",
   "version": "3.11.7"
  }
 },
 "nbformat": 4,
 "nbformat_minor": 5
}
