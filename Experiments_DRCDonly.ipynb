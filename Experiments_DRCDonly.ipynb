{
 "cells": [
  {
   "cell_type": "markdown",
   "id": "3d2cfeb4-a10f-4b53-b97d-a3abe33d0b22",
   "metadata": {},
   "source": [
    "# Experiments for DRCD Only\n",
    "This notebook presents experiments conducted on both synthetic datasets and the UCI Heart Disease Dataset, focusing exclusively on **DRCD**.  \n",
    "For experiments covering all methods including DRCD, please refer to `Experiments.ipynb`.\n",
    "\n",
    "## Experiments on Synthetic Data\n",
    "### Procedure\n",
    "The experiments can be executed using the following commands:\n",
    "```python\n",
    "import experiments_artificial_DRCD\n",
    "experiments_artificial_DRCD.experiment_using_artififial_data()\n",
    "```\n",
    "By default, this runs experiments with 1,000 samples per dataset and 1,000 datasets per data type.  \n",
    "To adjust the number of samples or datasets, specify the parameters explicitly as follows:\n",
    "```python\n",
    "import experiments_artificial_DRCD\n",
    "experiments_artificial_DRCD.experiment_using_artififial_data(n_samples=1000, n_datasets_per_type=1000)\n",
    "```\n",
    "\n",
    "### Output\n",
    "The results will be saved in LaTeX table format at:\n",
    "```\n",
    "./results/artificial/accuracy_table_with_overall_DRCDonly.tex\n",
    "```\n",
    "In addition, individual results for each run will be displayed within the notebook upon completion of the experiments."
   ]
  },
  {
   "cell_type": "code",
   "execution_count": null,
   "id": "be6035b8-1f21-4b3f-b7f5-f61ac7cada83",
   "metadata": {},
   "outputs": [],
   "source": [
    "import experiments_artificial_DRCD\n",
    "experiments_artificial_DRCD.experiment_using_artififial_data()"
   ]
  },
  {
   "cell_type": "markdown",
   "id": "c3ba91db-c66c-49cd-bc33-65ae08c5160a",
   "metadata": {},
   "source": [
    "## Experiments on the UCI Heart Disease Dataset\n",
    "### Procedure\n",
    "The experiments can be executed using the following commands:\n",
    "```python\n",
    "import experiments_real_DRCD\n",
    "experiments_real_DRCD.experiment_with_real_data()\n",
    "```\n",
    "\n",
    "### Output\n",
    "The results will be saved as a PDF file containing bipartite graphs at:\n",
    "```\n",
    "./results/real/bipartite_graphs_DRCDonly.pdf\n",
    "```"
   ]
  },
  {
   "cell_type": "code",
   "execution_count": null,
   "id": "a93a0509-27b8-4124-9024-db749bf853df",
   "metadata": {},
   "outputs": [],
   "source": [
    "import experiments_real_DRCD\n",
    "experiments_real_DRCD.experiment_with_real_data()"
   ]
  }
 ],
 "metadata": {
  "kernelspec": {
   "display_name": "Python 3 (ipykernel)",
   "language": "python",
   "name": "python3"
  },
  "language_info": {
   "codemirror_mode": {
    "name": "ipython",
    "version": 3
   },
   "file_extension": ".py",
   "mimetype": "text/x-python",
   "name": "python",
   "nbconvert_exporter": "python",
   "pygments_lexer": "ipython3",
   "version": "3.11.7"
  }
 },
 "nbformat": 4,
 "nbformat_minor": 5
}
